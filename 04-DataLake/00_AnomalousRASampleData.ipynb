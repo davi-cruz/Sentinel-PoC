{
 "cells": [
  {
   "cell_type": "markdown",
   "metadata": {
    "application/vnd.databricks.v1+cell": {
     "cellMetadata": {},
     "inputWidgets": {},
     "nuid": "3e0e6cca-7442-493c-9efa-a3375cbb262a",
     "showTitle": false,
     "title": ""
    }
   },
   "source": [
    "# AnomalousRASampleData\n",
    "\n",
    "This notebook demonstrates the use of Anomalous Resource Access model in Sentinel.  It generates training and testing data, trains the Anomalous Resource Access model and uses it to score the test data.  The top predicted scores are submitted to Sentinel workspace.\n",
    "\n",
    "Steps:\n",
    "1. One-time: Install the following packages on the cluster (refer: https://forums.databricks.com/questions/680/how-to-install-python-package-on-spark-cluster.html)\n",
    "     - com.microsoft.ml.spark:mmlspark_2.11:1.0.0 from https://mmlspark.azureedge.net\n",
    "     - azure_sentinel_utilities whl package\n",
    "     - plotly (from PyPi)\n",
    "2. One-time: Set credentials in KeyVault so the notebook can access \n",
    "     - Log Analytics\n",
    "\n",
    "Storing and retrieving secrets: \n",
    "- Using Azure KeyVault:- https://docs.azuredatabricks.net/user-guide/secrets/secret-scopes.html#akv-ss"
   ]
  },
  {
   "cell_type": "markdown",
   "metadata": {
    "application/vnd.databricks.v1+cell": {
     "cellMetadata": {},
     "inputWidgets": {},
     "nuid": "0b2aa533-0f7a-400c-91db-ea5586ea95cf",
     "showTitle": false,
     "title": ""
    }
   },
   "source": [
    "# Initialization"
   ]
  },
  {
   "cell_type": "code",
   "execution_count": null,
   "metadata": {
    "application/vnd.databricks.v1+cell": {
     "cellMetadata": {
      "byteLimit": 2048000,
      "rowLimit": 10000
     },
     "inputWidgets": {},
     "nuid": "5066c4a4-a46d-4942-9a14-9a42aec25132",
     "showTitle": false,
     "title": ""
    }
   },
   "outputs": [],
   "source": [
    "# Specify the Log Analytics WorkSpaceId (of your Sentinel instance).  \n",
    "\n",
    "#Log Analytics WorkSpace (Sentinel)\n",
    "workspace_id = 'xxxxxxxx-xxxx-xxxx-xxxx-xxxxxxxxxxxx'\n",
    "# For the shared key, use either the primary or the secondary key of the workspace\n",
    "# workspace_shared_key should be stored in Databricks Secrets/Key Vault\n",
    "# workspace_shared_key = dbutils.secrets.get(scope = 'YOUR_SCOPE_HERE', key = 'YOUR_KEY_HERE')\n",
    "workspace_shared_key = 'yyyyyyyyy'"
   ]
  },
  {
   "cell_type": "code",
   "execution_count": null,
   "metadata": {
    "ExecuteTime": {
     "end_time": "2019-02-11T12:27:03.600532Z",
     "start_time": "2019-02-11T12:27:01.472150Z"
    },
    "application/vnd.databricks.v1+cell": {
     "cellMetadata": {
      "byteLimit": 2048000,
      "rowLimit": 10000
     },
     "inputWidgets": {},
     "nuid": "62e4c79c-cf44-43a5-9ab6-875716b6b095",
     "showTitle": false,
     "title": ""
    },
    "collapsed": true
   },
   "outputs": [],
   "source": [
    "## Libraries\n",
    "from synapse.ml.cyber.dataset import DataFactory \n",
    "from synapse.ml.cyber.anomaly.collaborative_filtering import AccessAnomaly\n",
    "\n",
    "from pyspark.sql import functions as f, types as t\n",
    "import numpy as np\n",
    "import pandas as pd\n",
    "\n",
    "## Utils\n",
    "from azure_sentinel_utilities.log_analytics import log_analytics_client"
   ]
  },
  {
   "cell_type": "code",
   "execution_count": null,
   "metadata": {
    "application/vnd.databricks.v1+cell": {
     "cellMetadata": {
      "byteLimit": 2048000,
      "rowLimit": 10000
     },
     "inputWidgets": {},
     "nuid": "40f4ba4e-3064-4fbd-8fa9-36e30a5ddfa3",
     "showTitle": false,
     "title": ""
    }
   },
   "outputs": [],
   "source": [
    "spark.sparkContext.setCheckpointDir('dbfs:/checkpoint_path/')"
   ]
  },
  {
   "cell_type": "code",
   "execution_count": null,
   "metadata": {
    "application/vnd.databricks.v1+cell": {
     "cellMetadata": {
      "byteLimit": 2048000,
      "rowLimit": 10000
     },
     "inputWidgets": {},
     "nuid": "5d5947fb-6e47-4021-a543-585dde459346",
     "showTitle": false,
     "title": ""
    }
   },
   "outputs": [],
   "source": [
    "# The following module generates random training and testing data sets. Two test data sets are generated, one with low anomaly and the other with high anomaly compared to the training\n",
    "# data. Note that the data generated has a 'score' field that is a seed value for training. When working with real data, you will have a timestamp that you will need to use to\n",
    "# calculate a score based on the aggregation of access over a time interval (hourly or daily).\n",
    "\n",
    "factory = DataFactory(\n",
    "  num_hr_users = 25,\n",
    "  num_hr_resources = 50,\n",
    "  num_fin_users = 35,\n",
    "  num_fin_resources = 75,\n",
    "  num_eng_users = 15,\n",
    "  num_eng_resources = 25,\n",
    "  single_component = True\n",
    ")\n",
    "\n",
    "training_pdf = factory.create_clustered_training_data(ratio=0.4)\n",
    "\n",
    "training_df = spark.createDataFrame(training_pdf)\n",
    "ingroup_df = spark.createDataFrame(factory.create_clustered_intra_test_data(training_pdf))\n",
    "outgroup_df = spark.createDataFrame(factory.create_clustered_inter_test_data())"
   ]
  },
  {
   "cell_type": "code",
   "execution_count": null,
   "metadata": {
    "application/vnd.databricks.v1+cell": {
     "cellMetadata": {
      "byteLimit": 2048000,
      "rowLimit": 10000
     },
     "inputWidgets": {},
     "nuid": "acabf320-25c7-404a-8ffc-832c3930bdef",
     "showTitle": false,
     "title": ""
    }
   },
   "outputs": [],
   "source": [
    "# This module does 2 things:\n",
    "#  a) Gives a default tenant ID of 0\n",
    "#  b) Adds a count for number of access (for displaying the graph)\n",
    "def updateValues(df, use_random_count):\n",
    "  tmp_df = df.withColumn('tenant_id', f.lit(0))\n",
    "  if use_random_count:\n",
    "     return tmp_df.withColumn('count_', f.round(1+f.rand()*10))\n",
    "  else:\n",
    "     return tmp_df.withColumn('count_', f.lit(1))\n",
    "\n",
    "\n",
    "training_df = updateValues(training_df, True)\n",
    "ingroup_df = updateValues(ingroup_df, False)\n",
    "outgroup_df = updateValues(outgroup_df, False)"
   ]
  },
  {
   "cell_type": "code",
   "execution_count": null,
   "metadata": {
    "application/vnd.databricks.v1+cell": {
     "cellMetadata": {
      "byteLimit": 2048000,
      "rowLimit": 10000
     },
     "inputWidgets": {},
     "nuid": "e69fd720-157d-48d5-a37c-28572a64f279",
     "showTitle": false,
     "title": ""
    }
   },
   "outputs": [],
   "source": [
    "training_df.show()"
   ]
  },
  {
   "cell_type": "code",
   "execution_count": null,
   "metadata": {
    "application/vnd.databricks.v1+cell": {
     "cellMetadata": {
      "byteLimit": 2048000,
      "rowLimit": 10000
     },
     "inputWidgets": {},
     "nuid": "10e2581a-2ca1-4629-ac68-257f8d9f722a",
     "showTitle": false,
     "title": ""
    }
   },
   "outputs": [],
   "source": [
    "# Stats of each dataframes\n",
    "print(training_df.count())\n",
    "print(ingroup_df.count())\n",
    "print(outgroup_df.count())"
   ]
  },
  {
   "cell_type": "code",
   "execution_count": null,
   "metadata": {
    "ExecuteTime": {
     "end_time": "2019-02-11T12:33:33.947460Z",
     "start_time": "2019-02-11T12:33:31.368658Z"
    },
    "application/vnd.databricks.v1+cell": {
     "cellMetadata": {
      "byteLimit": 2048000,
      "rowLimit": 10000
     },
     "inputWidgets": {},
     "nuid": "3305287a-8eca-4558-9c60-5c1189063b5b",
     "showTitle": false,
     "title": ""
    }
   },
   "outputs": [],
   "source": [
    "training_df.describe().show()"
   ]
  },
  {
   "cell_type": "markdown",
   "metadata": {
    "application/vnd.databricks.v1+cell": {
     "cellMetadata": {},
     "inputWidgets": {},
     "nuid": "11762a33-7e08-43d2-bfdb-2cd624c425f3",
     "showTitle": false,
     "title": ""
    }
   },
   "source": [
    "# Training"
   ]
  },
  {
   "cell_type": "code",
   "execution_count": null,
   "metadata": {
    "ExecuteTime": {
     "end_time": "2019-02-11T12:47:42.112994Z",
     "start_time": "2019-02-11T12:40:47.542426Z"
    },
    "application/vnd.databricks.v1+cell": {
     "cellMetadata": {
      "byteLimit": 2048000,
      "rowLimit": 10000
     },
     "inputWidgets": {},
     "nuid": "7418303a-b585-4234-9eef-180096193f92",
     "showTitle": false,
     "title": ""
    }
   },
   "outputs": [],
   "source": [
    "access_anomaly = AccessAnomaly(\n",
    "  tenantCol='tenant_id',\n",
    "  userCol='user',\n",
    "  resCol='res',\n",
    "  likelihoodCol='likelihood',\n",
    "  maxIter=1000\n",
    ")"
   ]
  },
  {
   "cell_type": "code",
   "execution_count": null,
   "metadata": {
    "application/vnd.databricks.v1+cell": {
     "cellMetadata": {
      "byteLimit": 2048000,
      "rowLimit": 10000
     },
     "inputWidgets": {},
     "nuid": "02cdbf5a-60cd-4eeb-8a99-77829a0eb0df",
     "showTitle": false,
     "title": ""
    }
   },
   "outputs": [],
   "source": [
    "model = access_anomaly.fit(training_df)"
   ]
  },
  {
   "cell_type": "markdown",
   "metadata": {
    "application/vnd.databricks.v1+cell": {
     "cellMetadata": {},
     "inputWidgets": {},
     "nuid": "f79d9156-facc-4f82-9eb1-902169c5e0ec",
     "showTitle": false,
     "title": ""
    }
   },
   "source": [
    "# Testing"
   ]
  },
  {
   "cell_type": "code",
   "execution_count": null,
   "metadata": {
    "application/vnd.databricks.v1+cell": {
     "cellMetadata": {
      "byteLimit": 2048000,
      "rowLimit": 10000
     },
     "inputWidgets": {},
     "nuid": "8f2f8337-baa4-4c60-96b0-4744e9fdc022",
     "showTitle": false,
     "title": ""
    }
   },
   "outputs": [],
   "source": [
    "# Score the low anomaly test dataset\n",
    "ingroup_scored_df = model.transform(ingroup_df)"
   ]
  },
  {
   "cell_type": "code",
   "execution_count": null,
   "metadata": {
    "application/vnd.databricks.v1+cell": {
     "cellMetadata": {
      "byteLimit": 2048000,
      "rowLimit": 10000
     },
     "inputWidgets": {},
     "nuid": "b4257229-b945-4f56-b6f8-1938d79b2288",
     "showTitle": false,
     "title": ""
    }
   },
   "outputs": [],
   "source": [
    "ingroup_scored_df.agg(\n",
    "  f.min('anomaly_score').alias('min_anomaly_score'),\n",
    "  f.max('anomaly_score').alias('max_anomaly_score'),\n",
    "  f.mean('anomaly_score').alias('mean_anomaly_score'),\n",
    "  f.stddev('anomaly_score').alias('stddev_anomaly_score'),\n",
    ").show()"
   ]
  },
  {
   "cell_type": "code",
   "execution_count": null,
   "metadata": {
    "ExecuteTime": {
     "end_time": "2019-02-11T12:47:52.432190Z",
     "start_time": "2019-02-11T12:47:42.116353Z"
    },
    "application/vnd.databricks.v1+cell": {
     "cellMetadata": {
      "byteLimit": 2048000,
      "rowLimit": 10000
     },
     "inputWidgets": {},
     "nuid": "0e815ccd-391b-46d4-ab96-cd3f5c9f6e54",
     "showTitle": false,
     "title": ""
    },
    "collapsed": true
   },
   "outputs": [],
   "source": [
    "# Score the high anomaly test dataset\n",
    "outgroup_scored_df = model.transform(outgroup_df)"
   ]
  },
  {
   "cell_type": "code",
   "execution_count": null,
   "metadata": {
    "ExecuteTime": {
     "end_time": "2019-02-11T12:47:54.365653Z",
     "start_time": "2019-02-11T12:47:52.981448Z"
    },
    "application/vnd.databricks.v1+cell": {
     "cellMetadata": {
      "byteLimit": 2048000,
      "rowLimit": 10000
     },
     "inputWidgets": {},
     "nuid": "a15f4b68-356e-44a7-be5d-f9e461a1a5b8",
     "showTitle": false,
     "title": ""
    }
   },
   "outputs": [],
   "source": [
    "outgroup_scored_df.agg(\n",
    "  f.min('anomaly_score').alias('min_anomaly_score'),\n",
    "  f.max('anomaly_score').alias('max_anomaly_score'),\n",
    "  f.mean('anomaly_score').alias('mean_anomaly_score'),\n",
    "  f.stddev('anomaly_score').alias('stddev_anomaly_score'),\n",
    ").show()"
   ]
  },
  {
   "cell_type": "markdown",
   "metadata": {
    "application/vnd.databricks.v1+cell": {
     "cellMetadata": {},
     "inputWidgets": {},
     "nuid": "aae41d4f-015d-4d74-91f1-d8eb4424be29",
     "showTitle": false,
     "title": ""
    }
   },
   "source": [
    "### Report results"
   ]
  },
  {
   "cell_type": "code",
   "execution_count": null,
   "metadata": {
    "ExecuteTime": {
     "end_time": "2019-02-11T12:48:01.733431Z",
     "start_time": "2019-02-11T12:48:01.723119Z"
    },
    "application/vnd.databricks.v1+cell": {
     "cellMetadata": {
      "byteLimit": 2048000,
      "rowLimit": 10000
     },
     "inputWidgets": {},
     "nuid": "55d26d38-21ab-402a-9fd9-a5a36951da14",
     "showTitle": false,
     "title": ""
    },
    "collapsed": true
   },
   "outputs": [],
   "source": [
    "full_res_df = outgroup_scored_df.orderBy(f.desc('anomaly_score')).cache()"
   ]
  },
  {
   "cell_type": "code",
   "execution_count": null,
   "metadata": {
    "ExecuteTime": {
     "end_time": "2019-02-11T12:48:02.547892Z",
     "start_time": "2019-02-11T12:48:01.736469Z"
    },
    "application/vnd.databricks.v1+cell": {
     "cellMetadata": {
      "byteLimit": 2048000,
      "rowLimit": 10000
     },
     "inputWidgets": {},
     "nuid": "c0f0d7d8-e214-467b-8ff3-6af9b888c7da",
     "showTitle": false,
     "title": ""
    }
   },
   "outputs": [],
   "source": [
    "display(full_res_df)"
   ]
  },
  {
   "cell_type": "code",
   "execution_count": null,
   "metadata": {
    "application/vnd.databricks.v1+cell": {
     "cellMetadata": {
      "byteLimit": 2048000,
      "rowLimit": 10000
     },
     "inputWidgets": {},
     "nuid": "60e37cd2-569f-4816-abeb-743440f78464",
     "showTitle": false,
     "title": ""
    }
   },
   "outputs": [],
   "source": [
    "def print_ratio(df, thr):\n",
    "    print('ratio of above {0} items {1}/{2} = {3}%'.format(\n",
    "        thr,\n",
    "        df.filter(f.col('anomaly_score') > thr).count(),\n",
    "        df.count(),\n",
    "        100.0*df.filter(f.col('anomaly_score') > thr).count()/df.count()\n",
    "    ))\n",
    "    \n",
    "print_ratio(full_res_df, 0)\n",
    "print_ratio(full_res_df, 15.0)\n",
    "print_ratio(full_res_df, 15.5)\n",
    "print_ratio(full_res_df, 15.7)"
   ]
  },
  {
   "cell_type": "markdown",
   "metadata": {
    "application/vnd.databricks.v1+cell": {
     "cellMetadata": {},
     "inputWidgets": {},
     "nuid": "6a59ce93-fa6a-4abf-81f5-2215c15f8a77",
     "showTitle": false,
     "title": ""
    }
   },
   "source": [
    "#Rank anomalous users"
   ]
  },
  {
   "cell_type": "code",
   "execution_count": null,
   "metadata": {
    "application/vnd.databricks.v1+cell": {
     "cellMetadata": {
      "byteLimit": 2048000,
      "rowLimit": 10000
     },
     "inputWidgets": {},
     "nuid": "1aaf9ae6-ce5c-4d64-b646-e3a3004d713b",
     "showTitle": false,
     "title": ""
    }
   },
   "outputs": [],
   "source": [
    "#\n",
    "# Select a subset of results to send to Log Analytics\n",
    "#\n",
    "from pyspark.sql.window import Window\n",
    "\n",
    "w = Window.partitionBy(\n",
    "                  'tenant_id',\n",
    "                  'user',\n",
    "                  'res'  \n",
    "                ).orderBy(\n",
    "                  f.desc('anomaly_score')\n",
    "                )\n",
    "\n",
    "# select values above threshold\n",
    "results_above_threshold = full_res_df.filter(full_res_df.anomaly_score > 1.0)\n",
    "\n",
    "# get distinct resource/user and corresponding timestamp and highest score\n",
    "results_to_la = results_above_threshold.withColumn(\n",
    "                  'index', f.row_number().over(w)\n",
    "                  ).orderBy(\n",
    "                    f.desc('anomaly_score')\n",
    "                  ).select(\n",
    "                    'tenant_id',\n",
    "                    f.col('user'),\n",
    "                    f.col('res'),\n",
    "                    'anomaly_score'\n",
    "                  ).where(\n",
    "                    'index == 1'\n",
    "                  ).limit(100).cache()\n",
    "\n",
    "# add a fake timestamp to the results\n",
    "results_to_la = results_to_la.withColumn('timestamp', f.current_timestamp())\n",
    "  \n",
    "display(results_to_la)"
   ]
  },
  {
   "cell_type": "markdown",
   "metadata": {
    "application/vnd.databricks.v1+cell": {
     "cellMetadata": {},
     "inputWidgets": {},
     "nuid": "2824baab-9514-49b8-9623-c1e34f8a634b",
     "showTitle": false,
     "title": ""
    }
   },
   "source": [
    "#Display all resource accesses by users with highest anomalous score"
   ]
  },
  {
   "cell_type": "code",
   "execution_count": null,
   "metadata": {
    "application/vnd.databricks.v1+cell": {
     "cellMetadata": {
      "byteLimit": 2048000,
      "rowLimit": 10000
     },
     "inputWidgets": {},
     "nuid": "9595aa4d-27be-41ac-a29f-742a0dcc6515",
     "showTitle": false,
     "title": ""
    }
   },
   "outputs": [],
   "source": [
    "from plotly import __version__\n",
    "from plotly.offline import download_plotlyjs, init_notebook_mode, plot, iplot, offline\n",
    "print (__version__) # requires version >= 1.9.0\n",
    "\n",
    "# run plotly in offline mode\n",
    "offline.init_notebook_mode()"
   ]
  },
  {
   "cell_type": "code",
   "execution_count": null,
   "metadata": {
    "application/vnd.databricks.v1+cell": {
     "cellMetadata": {
      "byteLimit": 2048000,
      "rowLimit": 10000
     },
     "inputWidgets": {},
     "nuid": "97cc8f0d-e73c-4689-ae61-af5be59e64ea",
     "showTitle": false,
     "title": ""
    }
   },
   "outputs": [],
   "source": [
    "#Find all server accesses of users with high predicted scores\n",
    "# For display, limit to top 25 results\n",
    "results_to_display = results_to_la.orderBy(\n",
    "                  f.desc('anomaly_score')\n",
    "                ).limit(25).cache()\n",
    "interesting_records = full_res_df.join(results_to_display, ['user'], 'left_semi')\n",
    "non_anomalous_records = interesting_records.join(results_to_display, ['user', 'res'], 'left_anti')\n",
    "\n",
    "top_non_anomalous_records = non_anomalous_records.groupBy(\n",
    "                          'tenant_id',\n",
    "                          'user', \n",
    "                          'res'\n",
    "                        ).agg(\n",
    "                          f.count('*').alias('count'),\n",
    "                        ).select(\n",
    "                          f.col('tenant_id'),\n",
    "                          f.col('user'),\n",
    "                          f.col('res'),\n",
    "                          'count'\n",
    "                        )\n",
    "\n",
    "#pick only a subset of non-anomalous record for UI\n",
    "w = Window.partitionBy(\n",
    "                  'tenant_id',\n",
    "                  'user',\n",
    "                ).orderBy(\n",
    "                  f.desc('count')\n",
    "                )\n",
    "\n",
    "# pick top non-anomalous set\n",
    "top_non_anomalous_accesses = top_non_anomalous_records.withColumn(\n",
    "                  'index', f.row_number().over(w)\n",
    "                  ).orderBy(\n",
    "                    f.desc('count')\n",
    "                  ).select(\n",
    "                    'tenant_id',\n",
    "                    f.col('user'),\n",
    "                    f.col('res'),\n",
    "                    f.col('count')\n",
    "                  ).where(\n",
    "                    'index in (1,2,3,4,5)'\n",
    "                  ).limit(25)\n",
    "\n",
    "# add back anomalous record\n",
    "fileShare_accesses = (top_non_anomalous_accesses\n",
    "                          .select('user', 'res', 'count')\n",
    "                          .union(results_to_display.select('user', 'res', f.lit(1).alias('count'))).cache())"
   ]
  },
  {
   "cell_type": "code",
   "execution_count": null,
   "metadata": {
    "application/vnd.databricks.v1+cell": {
     "cellMetadata": {
      "byteLimit": 2048000,
      "rowLimit": 10000
     },
     "inputWidgets": {},
     "nuid": "383eb9a4-4101-44c1-8b58-b04cbbdd424b",
     "showTitle": false,
     "title": ""
    }
   },
   "outputs": [],
   "source": [
    "# get unique users and file shares\n",
    "high_scores_df = fileShare_accesses.toPandas()\n",
    "unique_arr = np.append(high_scores_df.user.unique(), high_scores_df.res.unique())\n",
    "\n",
    "unique_df = pd.DataFrame(data = unique_arr, columns = ['name'])\n",
    "unique_df['index'] = range(0, len(unique_df.index))\n",
    "\n",
    "# create index for source & target and color for the normal accesses\n",
    "normal_line_color = 'rgba(211, 211, 211, 0.8)'\n",
    "anomolous_color = 'red'\n",
    "x = pd.merge(high_scores_df, unique_df, how='left', left_on='user', right_on='name').drop(['name'], axis=1).rename(columns={'index' : 'userIndex'})\n",
    "all_access_index_df = pd.merge(x, unique_df, how='left', left_on='res', right_on='name').drop(['name'], axis=1).rename(columns={'index' : 'resIndex'})\n",
    "all_access_index_df['color'] = normal_line_color\n",
    "\n",
    "# results_to_display index, color and \n",
    "y = results_to_display.toPandas().drop(['tenant_id', 'timestamp', 'anomaly_score'], axis=1)\n",
    "y = pd.merge(y, unique_df, how='left', left_on='user', right_on='name').drop(['name'], axis=1).rename(columns={'index' : 'userIndex'})\n",
    "high_scores_index_df = pd.merge(y, unique_df, how='left', left_on='res', right_on='name').drop(['name'], axis=1).rename(columns={'index' : 'resIndex'})\n",
    "high_scores_index_df['count'] = 1\n",
    "high_scores_index_df['color'] = anomolous_color\n",
    "\n",
    "# substract 1 for the red entries in all_access df\n",
    "hsi_df = high_scores_index_df[['user','res', 'count']].rename(columns={'count' : 'hsiCount'})\n",
    "all_access_updated_count_df = pd.merge(all_access_index_df, hsi_df, how='left', left_on=['user', 'res'], right_on=['user', 'res'])\n",
    "all_access_updated_count_df['count'] = np.where(all_access_updated_count_df['hsiCount']==1, all_access_updated_count_df['count'] - 1, all_access_updated_count_df['count'])\n",
    "all_access_updated_count_df = all_access_updated_count_df.loc[all_access_updated_count_df['count'] > 0]\n",
    "all_access_updated_count_df = all_access_updated_count_df[['user','res', 'count', 'userIndex', 'resIndex', 'color']]\n",
    "\n",
    "# combine the two tables\n",
    "frames = [all_access_updated_count_df, high_scores_index_df]\n",
    "display_df = pd.concat(frames, sort=True)\n",
    "# display_df.head()"
   ]
  },
  {
   "cell_type": "code",
   "execution_count": null,
   "metadata": {
    "application/vnd.databricks.v1+cell": {
     "cellMetadata": {
      "byteLimit": 2048000,
      "rowLimit": 10000
     },
     "inputWidgets": {},
     "nuid": "cf58a6df-a64f-4697-8f3c-8a9ececad53c",
     "showTitle": false,
     "title": ""
    }
   },
   "outputs": [],
   "source": [
    "data_trace = dict(\n",
    "    type='sankey',\n",
    "    domain = dict(\n",
    "      x =  [0,1],\n",
    "      y =  [0,1]\n",
    "    ),\n",
    "    orientation = \"h\",\n",
    "    valueformat = \".0f\",\n",
    "    node = dict(\n",
    "      pad = 10,\n",
    "      thickness = 30,\n",
    "      line = dict(\n",
    "        color = \"black\",\n",
    "        width = 0\n",
    "      ),\n",
    "      label = unique_df['name'].dropna(axis=0, how='any')\n",
    "    ),\n",
    "    link = dict(\n",
    "      source = display_df['userIndex'].dropna(axis=0, how='any'),\n",
    "      target = display_df['resIndex'].dropna(axis=0, how='any'),\n",
    "      value = display_df['count'].dropna(axis=0, how='any'),\n",
    "      color = display_df['color'].dropna(axis=0, how='any'),\n",
    "  )\n",
    ")\n",
    "\n",
    "layout =  dict(\n",
    "    title = \"All resources accessed by users with highest anomalous scores\",\n",
    "    height = 772,\n",
    "    font = dict(\n",
    "      size = 10\n",
    "    ),    \n",
    ")\n",
    "\n",
    "fig = dict(data=[data_trace], layout=layout)\n",
    "\n",
    "p = plot(fig, output_type='div')\n",
    "\n",
    "displayHTML(p)"
   ]
  },
  {
   "cell_type": "code",
   "execution_count": null,
   "metadata": {
    "application/vnd.databricks.v1+cell": {
     "cellMetadata": {
      "byteLimit": 2048000,
      "rowLimit": 10000
     },
     "inputWidgets": {},
     "nuid": "b05de84f-5ca8-47a6-b937-9737b431b7f1",
     "showTitle": false,
     "title": ""
    }
   },
   "outputs": [],
   "source": [
    "@udf\n",
    "def escape_str(str):\n",
    "  return str.replace('\\\\','\\\\\\\\')\n",
    "\n",
    "def send_results_to_log_analytics(df_to_la):\n",
    "  # The log type is the name of the event that is being submitted.  This will show up under \"Custom Logs\" as log_type + '_CL'\n",
    "  log_type = 'AnomalousResourceAccessResult'\n",
    "\n",
    "  # concatenate columns to form one json record\n",
    "  json_records = df_to_la.withColumn('json_field', f.concat(f.lit('{'), \n",
    "                                            f.lit(' \\\"TimeStamp\\\": \\\"'), f.from_unixtime(f.unix_timestamp(f.col(\"timestamp\")), \"y-MM-dd'T'hh:mm:ss.SSS'Z'\"), f.lit('\\\",'),\n",
    "                                            f.lit(' \\\"User\\\": \\\"'), escape_str(f.col('user')), f.lit('\\\",'),\n",
    "                                            f.lit(' \\\"Resource\\\": \\\"'), escape_str(f.col('res')), f.lit('\\\",'),\n",
    "                                            f.lit(' \\\"AnomalyScore\\\":'), f.col('anomaly_score'),\n",
    "                                            f.lit('}')\n",
    "                                           )                       \n",
    "                                         )\n",
    "  # combine json record column to create the array\n",
    "  json_body = json_records.agg(f.concat_ws(\", \", f.collect_list('json_field')).alias('body'))\n",
    "\n",
    "  if len(json_body.first()) > 0:\n",
    "    json_payload = json_body.first()['body']\n",
    "    json_payload = '[' + json_payload + ']'\n",
    "\n",
    "    payload = json_payload.encode('utf-8') #json.dumps(json_payload)\n",
    "    # print(payload)\n",
    "    return log_analytics_client(workspace_id, workspace_shared_key).post_data(payload, log_type)\n",
    "  else:\n",
    "    return \"No json data to send to LA\"\n",
    "\n",
    "count = results_to_la.count()\n",
    "if count > 0:\n",
    "  print ('Results count = ', count)\n",
    "  result = send_results_to_log_analytics(results_to_la)\n",
    "  print(\"Writing to Log Analytics result: \", result)\n",
    "else:\n",
    "  print ('No results to send to LA')"
   ]
  },
  {
   "cell_type": "code",
   "execution_count": null,
   "metadata": {
    "application/vnd.databricks.v1+cell": {
     "cellMetadata": {
      "byteLimit": 2048000,
      "rowLimit": 10000
     },
     "inputWidgets": {},
     "nuid": "6f5e8d08-e5be-4b82-85b0-6094dbebbc86",
     "showTitle": false,
     "title": ""
    }
   },
   "outputs": [],
   "source": []
  }
 ],
 "metadata": {
  "anaconda-cloud": {},
  "application/vnd.databricks.v1+notebook": {
   "dashboards": [],
   "language": "python",
   "notebookMetadata": {
    "pythonIndentUnit": 4
   },
   "notebookName": "00_AnomalousRASampleData",
   "widgets": {}
  },
  "kernelspec": {
   "display_name": "Python [default]",
   "language": "python",
   "name": "python3"
  },
  "language_info": {
   "codemirror_mode": {
    "name": "ipython",
    "version": 3
   },
   "file_extension": ".py",
   "mimetype": "text/x-python",
   "name": "python",
   "nbconvert_exporter": "python",
   "pygments_lexer": "ipython3",
   "version": "3.5.2"
  },
  "name": "AnomalousRASampleData",
  "notebookId": 1322118319405291,
  "toc": {
   "base_numbering": 1,
   "nav_menu": {},
   "number_sections": true,
   "sideBar": true,
   "skip_h1_title": false,
   "title_cell": "Table of Contents",
   "title_sidebar": "Contents",
   "toc_cell": false,
   "toc_position": {},
   "toc_section_display": true,
   "toc_window_display": false
  },
  "widgets": {
   "application/vnd.jupyter.widget-state+json": {
    "state": {},
    "version_major": 2,
    "version_minor": 0
   }
  }
 },
 "nbformat": 4,
 "nbformat_minor": 0
}
